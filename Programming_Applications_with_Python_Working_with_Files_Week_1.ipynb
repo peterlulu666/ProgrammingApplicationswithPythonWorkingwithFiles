{
  "nbformat": 4,
  "nbformat_minor": 0,
  "metadata": {
    "colab": {
      "name": "Programming_Applications_with_Python_Working_with_Files_Week_1.ipynb",
      "provenance": [],
      "collapsed_sections": [],
      "include_colab_link": true
    },
    "kernelspec": {
      "name": "python3",
      "display_name": "Python 3"
    },
    "language_info": {
      "name": "python"
    }
  },
  "cells": [
    {
      "cell_type": "markdown",
      "metadata": {
        "id": "view-in-github",
        "colab_type": "text"
      },
      "source": [
        "<a href=\"https://colab.research.google.com/github/peterlulu666/ProgrammingApplicationswithPythonWorkingwithFiles/blob/main/Programming_Applications_with_Python_Working_with_Files_Week_1.ipynb\" target=\"_parent\"><img src=\"https://colab.research.google.com/assets/colab-badge.svg\" alt=\"Open In Colab\"/></a>"
      ]
    },
    {
      "cell_type": "markdown",
      "metadata": {
        "id": "LI7hfq7FgDK2"
      },
      "source": [
        "# How to read files"
      ]
    },
    {
      "cell_type": "code",
      "metadata": {
        "id": "154hTr52f927"
      },
      "source": [
        "myFile = open('sample.txt')\n",
        "print(myFile.read())\n",
        "print(myFile.readlines())"
      ],
      "execution_count": null,
      "outputs": []
    },
    {
      "cell_type": "markdown",
      "metadata": {
        "id": "uwP7-L2ogSnM"
      },
      "source": [
        "# Creating and writing new files"
      ]
    },
    {
      "cell_type": "markdown",
      "metadata": {
        "id": "8z7dE2VKhaEd"
      },
      "source": [
        "- ‘w’ – write\n",
        "  - if file exist, it throw error\n",
        "- ‘x’ – create\n",
        "  - if file exist, it throw error\n",
        "- ‘a’ – append\n",
        "  - if file exist, it does not throw error"
      ]
    },
    {
      "cell_type": "code",
      "metadata": {
        "id": "kZqVO_oegTWk"
      },
      "source": [
        "myPoem = open(r'poem.txt', 'w')\n",
        "myPoem.write('Roses are red')\n",
        "myPoem.close()"
      ],
      "execution_count": null,
      "outputs": []
    },
    {
      "cell_type": "code",
      "metadata": {
        "id": "BzC2ZNcsh6b0"
      },
      "source": [
        "myPoem = open(r'poem.txt', 'a')\n",
        "myPoem.write('\\nSky is blue')\n",
        "myPoem.close()"
      ],
      "execution_count": null,
      "outputs": []
    },
    {
      "cell_type": "markdown",
      "metadata": {
        "id": "XSQUrbxyicqm"
      },
      "source": [
        "# Creating a directory"
      ]
    },
    {
      "cell_type": "code",
      "metadata": {
        "id": "WPXBJC5Uidbm"
      },
      "source": [
        "#Directory operations\n",
        "import os\n",
        "os.makedirs(\"example\")"
      ],
      "execution_count": null,
      "outputs": []
    },
    {
      "cell_type": "code",
      "metadata": {
        "colab": {
          "base_uri": "https://localhost:8080/"
        },
        "id": "YCU5uzukioEu",
        "outputId": "8b942ecc-c7e1-4b30-a23f-f38aef36bdf6"
      },
      "source": [
        "# list the current working directory\n",
        "print(os.getcwd())\n",
        "print(os.getcwdb())"
      ],
      "execution_count": null,
      "outputs": [
        {
          "output_type": "stream",
          "text": [
            "/content\n",
            "b'/content'\n"
          ],
          "name": "stdout"
        }
      ]
    },
    {
      "cell_type": "code",
      "metadata": {
        "colab": {
          "base_uri": "https://localhost:8080/"
        },
        "id": "azkYHABnjGrX",
        "outputId": "bda96298-297c-44e0-e5ab-835199ea33e0"
      },
      "source": [
        "# check file size\n",
        "print(os.path.getsize(\"poem.txt\"))\n",
        "# list file in the current directory\n",
        "print(os.listdir(os.getcwd()))"
      ],
      "execution_count": null,
      "outputs": [
        {
          "output_type": "stream",
          "text": [
            "85\n",
            "['.config', 'C:\\\\Users\\\\User\\\\Desktop\\\\poem.txt', '.ipynb_checkpoints', 'example', 'poem.txt', 'sample_data']\n"
          ],
          "name": "stdout"
        }
      ]
    },
    {
      "cell_type": "code",
      "metadata": {
        "colab": {
          "base_uri": "https://localhost:8080/"
        },
        "id": "UQHMGgfrj34j",
        "outputId": "fb1dc7ea-42a2-40cb-b27c-6b4d6abd8557"
      },
      "source": [
        "# go to example directory\n",
        "os.chdir(\"./example\")\n",
        "print(os.getcwd())"
      ],
      "execution_count": null,
      "outputs": [
        {
          "output_type": "stream",
          "text": [
            "/content/example\n"
          ],
          "name": "stdout"
        }
      ]
    },
    {
      "cell_type": "code",
      "metadata": {
        "colab": {
          "base_uri": "https://localhost:8080/"
        },
        "id": "uI44wxCVj8yE",
        "outputId": "0511e305-3d12-4ee3-a9c5-9bed62abd785"
      },
      "source": [
        "# go ot parent directory\n",
        "os.chdir(\"..\")\n",
        "print(os.getcwd())"
      ],
      "execution_count": null,
      "outputs": [
        {
          "output_type": "stream",
          "text": [
            "/content\n"
          ],
          "name": "stdout"
        }
      ]
    },
    {
      "cell_type": "code",
      "metadata": {
        "colab": {
          "base_uri": "https://localhost:8080/"
        },
        "id": "aqVgPM4zj5ry",
        "outputId": "19b22db1-671d-4646-c5a1-f418300f4cf9"
      },
      "source": [
        "# remove directory\n",
        "os.rmdir(\"example\")\n",
        "print(os.listdir(os.getcwd()))"
      ],
      "execution_count": null,
      "outputs": [
        {
          "output_type": "stream",
          "text": [
            "['.config', 'C:\\\\Users\\\\User\\\\Desktop\\\\poem.txt', '.ipynb_checkpoints', 'poem.txt', 'sample_data']\n"
          ],
          "name": "stdout"
        }
      ]
    }
  ]
}