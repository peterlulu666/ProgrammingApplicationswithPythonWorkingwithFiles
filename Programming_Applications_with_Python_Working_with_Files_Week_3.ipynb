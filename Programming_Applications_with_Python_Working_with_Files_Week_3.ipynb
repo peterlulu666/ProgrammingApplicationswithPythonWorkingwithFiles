{
  "nbformat": 4,
  "nbformat_minor": 0,
  "metadata": {
    "colab": {
      "name": "Programming_Applications_with_Python_Working_with_Files_Week_3.ipynb",
      "provenance": [],
      "collapsed_sections": [],
      "include_colab_link": true
    },
    "kernelspec": {
      "name": "python3",
      "display_name": "Python 3"
    },
    "language_info": {
      "name": "python"
    }
  },
  "cells": [
    {
      "cell_type": "markdown",
      "metadata": {
        "id": "view-in-github",
        "colab_type": "text"
      },
      "source": [
        "<a href=\"https://colab.research.google.com/github/peterlulu666/ProgrammingApplicationswithPythonWorkingwithFiles/blob/main/Programming_Applications_with_Python_Working_with_Files_Week_3.ipynb\" target=\"_parent\"><img src=\"https://colab.research.google.com/assets/colab-badge.svg\" alt=\"Open In Colab\"/></a>"
      ]
    },
    {
      "cell_type": "markdown",
      "metadata": {
        "id": "lvJMPzcYmFWn"
      },
      "source": [
        "# Temporary files and directories"
      ]
    },
    {
      "cell_type": "code",
      "metadata": {
        "colab": {
          "base_uri": "https://localhost:8080/"
        },
        "id": "2dlNpbErmDLt",
        "outputId": "9b5049fb-ec49-4627-af43-865e4ff5a2c9"
      },
      "source": [
        "# without a name\n",
        "import tempfile\n",
        "temp = tempfile.TemporaryFile()\n",
        "print(temp)\n",
        "print(temp.name)\n",
        "temp.close()"
      ],
      "execution_count": null,
      "outputs": [
        {
          "output_type": "stream",
          "text": [
            "<_io.BufferedRandom name=58>\n",
            "58\n"
          ],
          "name": "stdout"
        }
      ]
    },
    {
      "cell_type": "code",
      "metadata": {
        "colab": {
          "base_uri": "https://localhost:8080/"
        },
        "id": "Eus2ExPYmPDP",
        "outputId": "524fd673-6e79-42d7-ee3c-d9a5fc75326f"
      },
      "source": [
        "# provide a name\n",
        "temp1 = tempfile.TemporaryFile(prefix=\"my_temp.\")\n",
        "print(temp1)\n",
        "print(temp1.name)\n",
        "temp1.close()\n",
        "temp2 = tempfile.NamedTemporaryFile(suffix=\".my_temp\")\n",
        "print(temp2)\n",
        "print(temp2.name)\n",
        "temp2.close()"
      ],
      "execution_count": null,
      "outputs": [
        {
          "output_type": "stream",
          "text": [
            "<_io.BufferedRandom name=60>\n",
            "60\n",
            "<tempfile._TemporaryFileWrapper object at 0x7f91a48b3690>\n",
            "/tmp/tmp1q3f9bz8.my_temp\n"
          ],
          "name": "stdout"
        }
      ]
    },
    {
      "cell_type": "code",
      "metadata": {
        "id": "qOQb5fVonvvg"
      },
      "source": [
        "import shutil\n",
        "shutil.copy(\"file\", \"/directory\")"
      ],
      "execution_count": null,
      "outputs": []
    },
    {
      "cell_type": "code",
      "metadata": {
        "id": "vRu6_zrOn0Tf"
      },
      "source": [
        "import shutil\n",
        "shutil.copy(\"file\", \"/directory/new_name\")"
      ],
      "execution_count": null,
      "outputs": []
    },
    {
      "cell_type": "code",
      "metadata": {
        "id": "4pYtyrZPn2jf"
      },
      "source": [
        "import os\n",
        "os.rename(\"old_filename\", \"new_filename\")"
      ],
      "execution_count": null,
      "outputs": []
    },
    {
      "cell_type": "code",
      "metadata": {
        "id": "Lh2G6D5NoASP"
      },
      "source": [
        "shutil.move(\"file\", \"/directory\")"
      ],
      "execution_count": null,
      "outputs": []
    },
    {
      "cell_type": "markdown",
      "metadata": {
        "id": "9KKArredonWD"
      },
      "source": [
        "# Work with archives"
      ]
    },
    {
      "cell_type": "markdown",
      "metadata": {
        "id": "vDQBAJFtos_S"
      },
      "source": [
        "## Reading"
      ]
    },
    {
      "cell_type": "code",
      "metadata": {
        "id": "yRJ_cxpSorUx"
      },
      "source": [
        "import zipfile\n",
        " \n",
        "with zipfile.ZipFile(\"zip_file.zip\", 'r') as item:\n",
        "    print(item.namelist())"
      ],
      "execution_count": null,
      "outputs": []
    },
    {
      "cell_type": "markdown",
      "metadata": {
        "id": "r582ZeIvo0uA"
      },
      "source": [
        "## Compressing"
      ]
    },
    {
      "cell_type": "code",
      "metadata": {
        "id": "xH4YJJhVo3bP"
      },
      "source": [
        "import zipfile\n",
        " \n",
        "compressed = zipfile.ZipFile('compressed.zip', 'w')\n",
        "compressed.write(r'file, compress_type=zipfile.ZIP_DEFLATED)\n",
        "compressed.close()\n",
        "# To add files to an archive, you should use the ‘a’ mode for appending\n",
        "compressed = zipfile.ZipFile('compressed.zip', 'a')\n",
        "compressed.write(r'another_file, compress_type=zipfile.ZIP_DEFLATED)\n",
        "compressed.close()"
      ],
      "execution_count": null,
      "outputs": []
    },
    {
      "cell_type": "markdown",
      "metadata": {
        "id": "yOmIa1CJpc1q"
      },
      "source": [
        "## Extracting"
      ]
    },
    {
      "cell_type": "code",
      "metadata": {
        "id": "PClqeeedpfRi"
      },
      "source": [
        "import zipfile\n",
        "flowers = zipfile.ZipFile(\"zip_file.zip\")\n",
        "flowers.extractall()\n",
        "flowers.close()"
      ],
      "execution_count": null,
      "outputs": []
    },
    {
      "cell_type": "markdown",
      "metadata": {
        "id": "I73sZV01qCr3"
      },
      "source": [
        "# Activity: Read, write, and validate"
      ]
    },
    {
      "cell_type": "code",
      "metadata": {
        "id": "V4fhwn14qEwA"
      },
      "source": [
        "import os\n",
        "# write the file\n",
        "new_file = open('activity.txt', 'w')\n",
        "name = input('Enter name: ')\n",
        "new_file.write(name)\n",
        "age = input('Enter age: ')\n",
        "new_file.write('\\n' + age)\n",
        "address = input('Enter address: ')\n",
        "new_file.write('\\n' + address)\n",
        "print(\"Details saved successfully!\")\n",
        "new_file.close()\n",
        "# read the file\n",
        "# validate the file\n",
        "new_file = open('activity.txt')\n",
        "print(new_file.read())\n",
        "new_file.close()"
      ],
      "execution_count": null,
      "outputs": []
    },
    {
      "cell_type": "markdown",
      "metadata": {
        "id": "_6sTRW2OB7AP"
      },
      "source": [
        "# Dealing with text format data"
      ]
    },
    {
      "cell_type": "code",
      "metadata": {
        "id": "ayaMl7xMB8XM"
      },
      "source": [
        "# the delimiter is comma\n",
        "import pandas as pd \n",
        "data = pd.read_csv(r'sample_data.csv') "
      ],
      "execution_count": null,
      "outputs": []
    },
    {
      "cell_type": "code",
      "metadata": {
        "id": "X95G2GKxCOmz"
      },
      "source": [
        "# the delimiter is tab space\n",
        "import pandas as pd \n",
        "data = pd.read_table(r'sample_data.csv', index_col =False)"
      ],
      "execution_count": null,
      "outputs": []
    },
    {
      "cell_type": "code",
      "metadata": {
        "id": "OtYRzynzCeCT"
      },
      "source": [
        "# the data have a fixed-width between them\n",
        "import pandas as pd \n",
        "data = pd.read_fwf(r'sample_data.csv')"
      ],
      "execution_count": null,
      "outputs": []
    },
    {
      "cell_type": "markdown",
      "metadata": {
        "id": "24zYbLtuCv1U"
      },
      "source": [
        "# Dealing with binary data"
      ]
    },
    {
      "cell_type": "code",
      "metadata": {
        "id": "2Vvrw_waC0Dq"
      },
      "source": [
        "bytes_data = bytes(2)\n",
        "print(type(bytes_data))\n",
        "print(bytes_data[0])\n",
        "bytes_data[0] = 127"
      ],
      "execution_count": null,
      "outputs": []
    },
    {
      "cell_type": "code",
      "metadata": {
        "id": "oHVHhtF_DTak"
      },
      "source": [
        "bytes_data = bytearray(2)\n",
        "print(type(bytes_data))\n",
        "print(bytes_data)\n",
        "bytes_data[0] = 127"
      ],
      "execution_count": null,
      "outputs": []
    },
    {
      "cell_type": "code",
      "metadata": {
        "id": "v08ARLo5DVRY"
      },
      "source": [
        "with open(r'C:\\Users\\User\\Desktop\\sample_project\\sample_file1.dat','rb') as binary_data_file:\n",
        "    print(binary_data_file.read())"
      ],
      "execution_count": null,
      "outputs": []
    },
    {
      "cell_type": "code",
      "metadata": {
        "id": "DgUPky-6DW-b"
      },
      "source": [
        "with open(\"test.txt\", \"wb\") as binary_file:\n",
        "    binary_file.write(b'\\x48\\x65\\x6c\\x6c\\x6f\\x20\\x57\\x6f\\x72\\x6c\\x64')\n",
        "    print(\"Written to file\")"
      ],
      "execution_count": null,
      "outputs": []
    },
    {
      "cell_type": "code",
      "metadata": {
        "id": "DTEi02XiDajW"
      },
      "source": [
        "binaryNumber1 = int('1000',2)\n",
        "binaryNumber2 = int('0111',2)\n",
        "print(binaryNumber1)\n",
        "print(binaryNumber2)"
      ],
      "execution_count": null,
      "outputs": []
    },
    {
      "cell_type": "code",
      "metadata": {
        "id": "S9hdMnIADcTL"
      },
      "source": [
        "binaryNumber1 = int('1000',2)\n",
        "binaryNumber2 = int('0111',2)\n",
        "print(binaryNumber1)\n",
        "print(binaryNumber2)\n",
        " \n",
        "#AND, OR and XOR\n",
        "print(binaryNumber1 & binaryNumber2)\n",
        "print(binaryNumber1 | binaryNumber2)\n",
        "print(binaryNumber1 ^ binaryNumber2)\n",
        " \n",
        "#Left and right shift\n",
        "print(binaryNumber1 << 1)\n",
        "print(binaryNumber2 >> 1)\n",
        " \n",
        "#1's complement\n",
        "print(~binaryNumber1)\n",
        "print(~binaryNumber2)"
      ],
      "execution_count": null,
      "outputs": []
    },
    {
      "cell_type": "markdown",
      "metadata": {
        "id": "Mdu3gxZyDcq0"
      },
      "source": [
        "[ASCII Text to Hex Code Converter](https://www.rapidtables.com/convert/number/ascii-to-hex.html)"
      ]
    }
  ]
}