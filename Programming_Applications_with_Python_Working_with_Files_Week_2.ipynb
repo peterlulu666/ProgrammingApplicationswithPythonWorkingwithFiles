{
  "nbformat": 4,
  "nbformat_minor": 0,
  "metadata": {
    "colab": {
      "name": "Programming_Applications_with_Python_Working_with_Files_Week_2.ipynb",
      "provenance": [],
      "collapsed_sections": [],
      "include_colab_link": true
    },
    "kernelspec": {
      "name": "python3",
      "display_name": "Python 3"
    },
    "language_info": {
      "name": "python"
    }
  },
  "cells": [
    {
      "cell_type": "markdown",
      "metadata": {
        "id": "view-in-github",
        "colab_type": "text"
      },
      "source": [
        "<a href=\"https://colab.research.google.com/github/peterlulu666/ProgrammingApplicationswithPythonWorkingwithFiles/blob/main/Programming_Applications_with_Python_Working_with_Files_Week_2.ipynb\" target=\"_parent\"><img src=\"https://colab.research.google.com/assets/colab-badge.svg\" alt=\"Open In Colab\"/></a>"
      ]
    },
    {
      "cell_type": "markdown",
      "metadata": {
        "id": "lvJMPzcYmFWn"
      },
      "source": [
        "# Temporary files and directories"
      ]
    },
    {
      "cell_type": "code",
      "metadata": {
        "colab": {
          "base_uri": "https://localhost:8080/"
        },
        "id": "2dlNpbErmDLt",
        "outputId": "9b5049fb-ec49-4627-af43-865e4ff5a2c9"
      },
      "source": [
        "# without a name\n",
        "import tempfile\n",
        "temp = tempfile.TemporaryFile()\n",
        "print(temp)\n",
        "print(temp.name)\n",
        "temp.close()"
      ],
      "execution_count": null,
      "outputs": [
        {
          "output_type": "stream",
          "text": [
            "<_io.BufferedRandom name=58>\n",
            "58\n"
          ],
          "name": "stdout"
        }
      ]
    },
    {
      "cell_type": "code",
      "metadata": {
        "colab": {
          "base_uri": "https://localhost:8080/"
        },
        "id": "Eus2ExPYmPDP",
        "outputId": "524fd673-6e79-42d7-ee3c-d9a5fc75326f"
      },
      "source": [
        "# provide a name\n",
        "temp1 = tempfile.TemporaryFile(prefix=\"my_temp.\")\n",
        "print(temp1)\n",
        "print(temp1.name)\n",
        "temp1.close()\n",
        "temp2 = tempfile.NamedTemporaryFile(suffix=\".my_temp\")\n",
        "print(temp2)\n",
        "print(temp2.name)\n",
        "temp2.close()"
      ],
      "execution_count": null,
      "outputs": [
        {
          "output_type": "stream",
          "text": [
            "<_io.BufferedRandom name=60>\n",
            "60\n",
            "<tempfile._TemporaryFileWrapper object at 0x7f91a48b3690>\n",
            "/tmp/tmp1q3f9bz8.my_temp\n"
          ],
          "name": "stdout"
        }
      ]
    },
    {
      "cell_type": "code",
      "metadata": {
        "id": "qOQb5fVonvvg"
      },
      "source": [
        "import shutil\n",
        "shutil.copy(\"file\", \"/directory\")"
      ],
      "execution_count": null,
      "outputs": []
    },
    {
      "cell_type": "code",
      "metadata": {
        "id": "vRu6_zrOn0Tf"
      },
      "source": [
        "import shutil\n",
        "shutil.copy(\"file\", \"/directory/new_name\")"
      ],
      "execution_count": null,
      "outputs": []
    },
    {
      "cell_type": "code",
      "metadata": {
        "id": "4pYtyrZPn2jf"
      },
      "source": [
        "import os\n",
        "os.rename(\"old_filename\", \"new_filename\")"
      ],
      "execution_count": null,
      "outputs": []
    },
    {
      "cell_type": "code",
      "metadata": {
        "id": "Lh2G6D5NoASP"
      },
      "source": [
        "shutil.move(\"file\", \"/directory\")"
      ],
      "execution_count": null,
      "outputs": []
    },
    {
      "cell_type": "markdown",
      "metadata": {
        "id": "9KKArredonWD"
      },
      "source": [
        "# Work with archives"
      ]
    },
    {
      "cell_type": "markdown",
      "metadata": {
        "id": "vDQBAJFtos_S"
      },
      "source": [
        "## Reading"
      ]
    },
    {
      "cell_type": "code",
      "metadata": {
        "id": "yRJ_cxpSorUx"
      },
      "source": [
        "import zipfile\n",
        " \n",
        "with zipfile.ZipFile(\"zip_file.zip\", 'r') as item:\n",
        "    print(item.namelist())"
      ],
      "execution_count": null,
      "outputs": []
    },
    {
      "cell_type": "markdown",
      "metadata": {
        "id": "r582ZeIvo0uA"
      },
      "source": [
        "## Compressing"
      ]
    },
    {
      "cell_type": "code",
      "metadata": {
        "id": "xH4YJJhVo3bP"
      },
      "source": [
        "import zipfile\n",
        " \n",
        "compressed = zipfile.ZipFile('compressed.zip', 'w')\n",
        "compressed.write(r'file, compress_type=zipfile.ZIP_DEFLATED)\n",
        "compressed.close()\n",
        "# To add files to an archive, you should use the ‘a’ mode for appending\n",
        "compressed = zipfile.ZipFile('compressed.zip', 'a')\n",
        "compressed.write(r'another_file, compress_type=zipfile.ZIP_DEFLATED)\n",
        "compressed.close()"
      ],
      "execution_count": null,
      "outputs": []
    },
    {
      "cell_type": "markdown",
      "metadata": {
        "id": "yOmIa1CJpc1q"
      },
      "source": [
        "## Extracting"
      ]
    },
    {
      "cell_type": "code",
      "metadata": {
        "id": "PClqeeedpfRi"
      },
      "source": [
        "import zipfile\n",
        "flowers = zipfile.ZipFile(\"zip_file.zip\")\n",
        "flowers.extractall()\n",
        "flowers.close()"
      ],
      "execution_count": null,
      "outputs": []
    },
    {
      "cell_type": "markdown",
      "metadata": {
        "id": "I73sZV01qCr3"
      },
      "source": [
        "# Activity: Read, write, and validate"
      ]
    },
    {
      "cell_type": "code",
      "metadata": {
        "id": "V4fhwn14qEwA"
      },
      "source": [
        "import os\n",
        "# write the file\n",
        "new_file = open('activity.txt', 'w')\n",
        "name = input('Enter name: ')\n",
        "new_file.write(name)\n",
        "age = input('Enter age: ')\n",
        "new_file.write('\\n' + age)\n",
        "address = input('Enter address: ')\n",
        "new_file.write('\\n' + address)\n",
        "print(\"Details saved successfully!\")\n",
        "new_file.close()\n",
        "# read the file\n",
        "# validate the file\n",
        "new_file = open('activity.txt')\n",
        "print(new_file.read())\n",
        "new_file.close()"
      ],
      "execution_count": null,
      "outputs": []
    }
  ]
}